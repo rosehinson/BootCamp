{
 "cells": [
  {
   "cell_type": "markdown",
   "metadata": {},
   "source": [
    "# Astropy\n",
    "\n",
    "### What is it?\n",
    "\n",
    "A set of Python modules for astrophysics. It contains many useful functions for dealing with datasets, astronomical coordinates, astrometry, units, etc. The astropy project tries to maintain fairly high coding standards, and astropy modules are maintained and regularly updated.\n",
    "\n",
    "### How do I install it?\n",
    "\n",
    "If you're on the \\*nix system, then you have a couple of ways of installing astropy. In order of my preference:\n",
    "\n",
    "1. Using `pip`, which is a package manager for Python:\n",
    "   `pip install --user astropy` *or* `sudo pip install astropy`.\n",
    "2. Using your system's package manager. In Ubuntu/Debian, this would be\n",
    "   `sudo apt-get install python-astropy`.\n",
    "3. Using Anaconda, which is another package manager for Python: `conda install -c anaconda astropy`.\n",
    "\n",
    "There are more instructions [here](http://docs.astropy.org/en/stable/install.html).\n",
    "\n",
    "### And now, for something completely different\n",
    "\n",
    "In this notebook, we'll briefly touch on a couple of astropy's sub-packages. There are many we won't cover, however. Take a look at the [astropy documentation](http://astropy.readthedocs.io/en/stable/index.html) to get an overview of the sub-packages they have."
   ]
  },
  {
   "cell_type": "markdown",
   "metadata": {},
   "source": [
    "## Let's import some useful packages first"
   ]
  },
  {
   "cell_type": "code",
   "execution_count": null,
   "metadata": {
    "collapsed": true
   },
   "outputs": [],
   "source": [
    "from __future__ import print_function, division # Do this for Python 2/3 compatibility\n",
    "\n",
    "import numpy as np\n",
    "\n",
    "%matplotlib inline\n",
    "import matplotlib.pyplot as plt"
   ]
  },
  {
   "cell_type": "markdown",
   "metadata": {},
   "source": [
    "# Units (astropy.units)\n",
    "\n",
    "A number of astropy modules use astropy.units to keep track of units. This can help avoid headaches and bugs, because the quantities being passed around to different functions always have units attached to them. You won't have to wonder whether the variable `dist` is in units of parsecs or kiloparsecs. It will contain that information."
   ]
  },
  {
   "cell_type": "code",
   "execution_count": null,
   "metadata": {
    "collapsed": true
   },
   "outputs": [],
   "source": [
    "import astropy.units as u"
   ]
  },
  {
   "cell_type": "markdown",
   "metadata": {},
   "source": [
    "Let's define some arrays of distances:"
   ]
  },
  {
   "cell_type": "code",
   "execution_count": null,
   "metadata": {},
   "outputs": [],
   "source": [
    "d1 = np.random.random(5) * u.m    # u.meter also works\n",
    "d2 = np.random.random(5) * u.pc   # u.parsec also works\n",
    "\n",
    "print(d1)\n",
    "print(d2)"
   ]
  },
  {
   "cell_type": "markdown",
   "metadata": {},
   "source": [
    "Let's take the ratio of these different distances:"
   ]
  },
  {
   "cell_type": "code",
   "execution_count": null,
   "metadata": {},
   "outputs": [],
   "source": [
    "print(d2/d1)"
   ]
  },
  {
   "cell_type": "markdown",
   "metadata": {},
   "source": [
    "We can ask astropy.units to evaluate `pc / m`:"
   ]
  },
  {
   "cell_type": "code",
   "execution_count": null,
   "metadata": {},
   "outputs": [],
   "source": [
    "print((d2/d1).decompose())"
   ]
  },
  {
   "cell_type": "markdown",
   "metadata": {},
   "source": [
    "Let's try out some different units of angle:"
   ]
  },
  {
   "cell_type": "code",
   "execution_count": null,
   "metadata": {},
   "outputs": [],
   "source": [
    "theta1 = 1.7 * u.deg\n",
    "theta2 = 25. * u.arcsec\n",
    "\n",
    "print((theta1/theta2).decompose())"
   ]
  },
  {
   "cell_type": "markdown",
   "metadata": {},
   "source": [
    "We can do conversions between coordinates:"
   ]
  },
  {
   "cell_type": "code",
   "execution_count": null,
   "metadata": {},
   "outputs": [],
   "source": [
    "print('{:.5g} = {:.5g} = {:.5g}'.format(theta1, theta1.to(u.rad), theta1.to(u.arcmin)))"
   ]
  },
  {
   "cell_type": "markdown",
   "metadata": {},
   "source": [
    "Notice as well how astropy.units plays nicely with Python string formatting in the line above."
   ]
  },
  {
   "cell_type": "markdown",
   "metadata": {},
   "source": [
    "We can convert any quantity to [cgs](https://en.wikipedia.org/wiki/Centimetre%E2%80%93gram%E2%80%93second_system_of_units) or [SI](https://en.wikipedia.org/wiki/International_System_of_Units):"
   ]
  },
  {
   "cell_type": "code",
   "execution_count": null,
   "metadata": {},
   "outputs": [],
   "source": [
    "print(d2.si)\n",
    "print(d2.cgs)"
   ]
  },
  {
   "cell_type": "markdown",
   "metadata": {},
   "source": [
    "There are several other useful features of astropy.units, which we don't have time to go into here. Take a look at the documentation [here](http://astropy.readthedocs.io/en/stable/units/index.html)."
   ]
  },
  {
   "cell_type": "markdown",
   "metadata": {},
   "source": [
    "# Constants (astropy.constants)\n",
    "\n",
    "This module defines some physical constants."
   ]
  },
  {
   "cell_type": "code",
   "execution_count": null,
   "metadata": {
    "collapsed": true
   },
   "outputs": [],
   "source": [
    "import astropy.constants as const"
   ]
  },
  {
   "cell_type": "markdown",
   "metadata": {},
   "source": [
    "Let's take a look at the gravitational constant:"
   ]
  },
  {
   "cell_type": "code",
   "execution_count": null,
   "metadata": {},
   "outputs": [],
   "source": [
    "print(const.G)"
   ]
  },
  {
   "cell_type": "markdown",
   "metadata": {},
   "source": [
    "Notice how there are several pieces of information included here. We can take a look at the uncertainty, which is given in the same units as the constant itself:"
   ]
  },
  {
   "cell_type": "code",
   "execution_count": null,
   "metadata": {},
   "outputs": [],
   "source": [
    "print(const.G.uncertainty)"
   ]
  },
  {
   "cell_type": "markdown",
   "metadata": {},
   "source": [
    "Each constant is a `Quantity` object from astropy.units, so we can do all the things we saw above. For example, let's calculate the Schwarzschild radius of the Sun:"
   ]
  },
  {
   "cell_type": "code",
   "execution_count": null,
   "metadata": {},
   "outputs": [],
   "source": [
    "r_s = const.G * const.M_sun / const.c**2\n",
    "\n",
    "print('r_s = {:.3g} = {:.3g}'.format(r_s.to(u.km), r_s.to(u.AU)))"
   ]
  },
  {
   "cell_type": "markdown",
   "metadata": {},
   "source": [
    "# Coordinates (astropy.coordinates)\n",
    "\n",
    "This module allows you to convert between different spherical coordinate systems. Like astropy.constants, it uses astropy.units heavily."
   ]
  },
  {
   "cell_type": "code",
   "execution_count": null,
   "metadata": {
    "collapsed": true
   },
   "outputs": [],
   "source": [
    "from astropy.coordinates import SkyCoord"
   ]
  },
  {
   "cell_type": "markdown",
   "metadata": {},
   "source": [
    "There are a couple of different ways to define coordinates. We'll try out a few below:"
   ]
  },
  {
   "cell_type": "code",
   "execution_count": null,
   "metadata": {},
   "outputs": [],
   "source": [
    "c1 = SkyCoord(100., 45., frame='galactic', unit='deg')\n",
    "c2 = SkyCoord(60.*u.deg, -25.*u.deg, frame='galactic')\n",
    "c3 = SkyCoord('10h50m35.3s', '+12d17m1.0s', frame='icrs')\n",
    "c3 = SkyCoord('10:50:35.3', '+12:17:1.0', frame='icrs', unit=(u.hourangle, u.deg))"
   ]
  },
  {
   "cell_type": "markdown",
   "metadata": {},
   "source": [
    "Notice how we've been defining a `frame` for each `SkyCoord` object. The `frame` is the celestial coordinate system. Some common systems are `galactic`, `icrs` and `fk5`. The latter two are different variants of equatorial coordinates.\n",
    "\n",
    "We can also define arrays of coordinates:"
   ]
  },
  {
   "cell_type": "code",
   "execution_count": null,
   "metadata": {},
   "outputs": [],
   "source": [
    "ra = 360. * np.random.random(5)\n",
    "dec = 180. * np.random.random(5) - 90.\n",
    "\n",
    "c4 = SkyCoord(ra*u.deg, dec*u.deg, frame='fk5')\n",
    "\n",
    "print(c4)"
   ]
  },
  {
   "cell_type": "markdown",
   "metadata": {},
   "source": [
    "We can transform betwee different coordinate systems:"
   ]
  },
  {
   "cell_type": "code",
   "execution_count": null,
   "metadata": {},
   "outputs": [],
   "source": [
    "c4_gal = c4.transform_to('galactic')\n",
    "c4_icrs = c4.transform_to('icrs')\n",
    "\n",
    "print(c4_gal)\n",
    "print(c4_icrs)"
   ]
  },
  {
   "cell_type": "markdown",
   "metadata": {},
   "source": [
    "Let's extract the RA and Dec of `c4` in the ICRS system:"
   ]
  },
  {
   "cell_type": "code",
   "execution_count": null,
   "metadata": {},
   "outputs": [],
   "source": [
    "print(c4_icrs.ra)\n",
    "print(c4_icrs.ra.value)\n",
    "print(c4_icrs.ra.unit)\n",
    "print('')\n",
    "print(c4_icrs.dec)\n",
    "print(c4_icrs.dec.value)\n",
    "print(c4_icrs.dec.unit)"
   ]
  },
  {
   "cell_type": "markdown",
   "metadata": {},
   "source": [
    "Finally, we can include distances in sky coordinates, like so:"
   ]
  },
  {
   "cell_type": "code",
   "execution_count": null,
   "metadata": {},
   "outputs": [],
   "source": [
    "c5 = SkyCoord(45.*u.deg, 10.*u.deg, distance=1.*u.kpc, frame='galactic')\n",
    "print(c5)\n",
    "print('d = {}'.format(c5.distance))\n",
    "print('x, y, z = {}'.format(c5.cartesian))"
   ]
  },
  {
   "cell_type": "markdown",
   "metadata": {},
   "source": [
    "One more cool thing in `astropy.coordinates`:"
   ]
  },
  {
   "cell_type": "code",
   "execution_count": null,
   "metadata": {},
   "outputs": [],
   "source": [
    "from astropy.coordinates import EarthLocation\n",
    "EarthLocation.of_site('Cerro Tololo Interamerican Observatory')"
   ]
  },
  {
   "cell_type": "markdown",
   "metadata": {},
   "source": [
    "# ASCII Tables (astropy.io.ascii)\n",
    "\n",
    "A veritable Swiss-army knife for ASCII tables."
   ]
  },
  {
   "cell_type": "code",
   "execution_count": null,
   "metadata": {
    "collapsed": true
   },
   "outputs": [],
   "source": [
    "from astropy.io import ascii"
   ]
  },
  {
   "cell_type": "markdown",
   "metadata": {},
   "source": [
    "The two basic functions are `ascii.read()` and `ascii.write()`.\n",
    "\n",
    "People often distribute ASCII tables in their own pet format, so you end up writing custom code to read each new ASCII table you encounter. The function `ascii.read()` will attempt to figure out the format of the file by itself. This usually works, as we show below with three different files:"
   ]
  },
  {
   "cell_type": "code",
   "execution_count": null,
   "metadata": {},
   "outputs": [],
   "source": [
    "data = ascii.read('ascii1.txt')\n",
    "print(data)"
   ]
  },
  {
   "cell_type": "code",
   "execution_count": null,
   "metadata": {},
   "outputs": [],
   "source": [
    "data = ascii.read('ascii2.txt')\n",
    "print(data)"
   ]
  },
  {
   "cell_type": "markdown",
   "metadata": {},
   "source": [
    "We can extract values from the table like so:"
   ]
  },
  {
   "cell_type": "code",
   "execution_count": null,
   "metadata": {},
   "outputs": [],
   "source": [
    "print(data['obsid'][1])"
   ]
  },
  {
   "cell_type": "markdown",
   "metadata": {},
   "source": [
    "With some files, `ascii.read()` is not able to guess the format, and needs some help:"
   ]
  },
  {
   "cell_type": "code",
   "execution_count": null,
   "metadata": {},
   "outputs": [],
   "source": [
    "data = ascii.read('ascii3.txt')"
   ]
  },
  {
   "cell_type": "markdown",
   "metadata": {},
   "source": [
    "We give `ascii.read()` some hints, and then it works:"
   ]
  },
  {
   "cell_type": "code",
   "execution_count": null,
   "metadata": {},
   "outputs": [],
   "source": [
    "data = ascii.read('ascii3.txt', format='fixed_width', data_start=2)\n",
    "print(data)"
   ]
  },
  {
   "cell_type": "markdown",
   "metadata": {},
   "source": [
    "# FITS Files (astropy.io.fits)\n",
    "\n",
    "[FITS](https://en.wikipedia.org/wiki/FITS) is a widely used data format for astronomical images and tables, and `astropy.io.fits` (which you might also know under its old name, `pyfits`) is a widely used Python library for manipulating FITS files."
   ]
  },
  {
   "cell_type": "code",
   "execution_count": null,
   "metadata": {
    "collapsed": true
   },
   "outputs": [],
   "source": [
    "import astropy.io.fits as fits"
   ]
  },
  {
   "cell_type": "markdown",
   "metadata": {},
   "source": [
    "Let's try to open a FITS file:"
   ]
  },
  {
   "cell_type": "code",
   "execution_count": null,
   "metadata": {
    "collapsed": true
   },
   "outputs": [],
   "source": [
    "fname = 'dss17460a27m.fits'\n",
    "hdulist = fits.open(fname)"
   ]
  },
  {
   "cell_type": "markdown",
   "metadata": {},
   "source": [
    "Let's see what's inside this FITS file:"
   ]
  },
  {
   "cell_type": "code",
   "execution_count": null,
   "metadata": {},
   "outputs": [],
   "source": [
    "hdulist.info()"
   ]
  },
  {
   "cell_type": "markdown",
   "metadata": {},
   "source": [
    "FITS files are organized into \"Header-Data Units\" (\"HDUs\" for short). Each HDU contains a header describing the structure, meaning, provenance, etc. of the data, followed by the data itself. There are different types of HDUs, among them: PrimaryHDU (the first HDU is always one of these), ImageHDU (containing an image), CompImageHDU (containing a compressed image), TableHDU (containing a table of data), BinTableHDU (ditto, but stored in a binary format).\n",
    "\n",
    "The file we have has only one HDU, which is a PrimaryHDU."
   ]
  },
  {
   "cell_type": "markdown",
   "metadata": {},
   "source": [
    "We access a particular HDU just like we would get an item from a list. Let's look at the data in the first (and only) HDU in our FITS file:"
   ]
  },
  {
   "cell_type": "code",
   "execution_count": null,
   "metadata": {
    "scrolled": false
   },
   "outputs": [],
   "source": [
    "hdulist[0].data"
   ]
  },
  {
   "cell_type": "markdown",
   "metadata": {},
   "source": [
    "Let's plot it using `matplotlib`:"
   ]
  },
  {
   "cell_type": "code",
   "execution_count": null,
   "metadata": {},
   "outputs": [],
   "source": [
    "plt.imshow(hdulist[0].data, cmap='binary', interpolation='nearest');"
   ]
  },
  {
   "cell_type": "markdown",
   "metadata": {},
   "source": [
    "Now, let's close this FITS file:"
   ]
  },
  {
   "cell_type": "code",
   "execution_count": null,
   "metadata": {
    "collapsed": true
   },
   "outputs": [],
   "source": [
    "hdulist.close()"
   ]
  },
  {
   "cell_type": "markdown",
   "metadata": {},
   "source": [
    "Next, we'll be making our own file with table data. We begin by making a structured numpy array, which we'll fill with some arbitrary data:"
   ]
  },
  {
   "cell_type": "code",
   "execution_count": null,
   "metadata": {},
   "outputs": [],
   "source": [
    "dtype = [\n",
    "    ('x', 'f8'),\n",
    "    ('y', 'f8'),\n",
    "    ('velocity', 'f8'),\n",
    "    ('objid', 'i4'),\n",
    "    ('objname', 'S10')  # A string with a maximum length of 10 characters\n",
    "]\n",
    "\n",
    "data = np.empty(5, dtype=dtype)\n",
    "data['x'][:] = np.random.random(5)\n",
    "data['y'][:] = np.random.random(5)\n",
    "data['velocity'][:] = np.random.random(5)\n",
    "data['objid'][:] = np.arange(5)\n",
    "data['objname'][:] = 'a b c d e'.split()"
   ]
  },
  {
   "cell_type": "markdown",
   "metadata": {},
   "source": [
    "Now, we'll create an HDU that stores this data:"
   ]
  },
  {
   "cell_type": "code",
   "execution_count": null,
   "metadata": {},
   "outputs": [],
   "source": [
    "hdu = fits.BinTableHDU(data=data)"
   ]
  },
  {
   "cell_type": "markdown",
   "metadata": {},
   "source": [
    "Now, we'll create an HDUList (which could, in principle, have several HDUs, rather than just one), and we'll write it out to a file. The HDU requires a primary HDU, which we'll add in:"
   ]
  },
  {
   "cell_type": "code",
   "execution_count": null,
   "metadata": {},
   "outputs": [],
   "source": [
    "hdulist = fits.HDUList([fits.PrimaryHDU(), hdu]) # We need a dummy primary HDU\n",
    "hdulist.writeto('my_table.fits', clobber=True)  # clobber=True means that any existing file will be overwritten\n",
    "hdulist.close()"
   ]
  },
  {
   "cell_type": "markdown",
   "metadata": {},
   "source": [
    "That was just a very short intro to FITS files and `astropy.io.fits`. You'll probably have to heal with a lot of these files, and [the documentation](http://docs.astropy.org/en/stable/io/fits/index.html) will be very helpful."
   ]
  },
  {
   "cell_type": "markdown",
   "metadata": {},
   "source": [
    "# World Coordinate System (astropy.wcs)\n",
    "\n",
    "The World Coordinate System (WCS) is a system for translating between coordinates in an astronomical image and coordinates on the sky. If you ever deal with raw images, you'll need to use WCS."
   ]
  },
  {
   "cell_type": "code",
   "execution_count": null,
   "metadata": {
    "collapsed": true
   },
   "outputs": [],
   "source": [
    "import astropy.wcs as wcs"
   ]
  },
  {
   "cell_type": "markdown",
   "metadata": {},
   "source": [
    "Normally, FITS images contain WCS information. We'll grab the WCS from the FITS image we opened earlier:"
   ]
  },
  {
   "cell_type": "code",
   "execution_count": null,
   "metadata": {},
   "outputs": [],
   "source": [
    "fname = 'dss17460a27m.fits'\n",
    "hdulist = fits.open(fname)\n",
    "\n",
    "w = wcs.WCS(hdulist[0].header)\n",
    "hdulist.close()"
   ]
  },
  {
   "cell_type": "markdown",
   "metadata": {},
   "source": [
    "The two basic things WCS does is allow you to go from \"world\" (i.e., sky) coordinates to \"pixel\" (i.e., image) coordinates, and vice versa. First, we'll go from pixel to world coordinates:"
   ]
  },
  {
   "cell_type": "code",
   "execution_count": null,
   "metadata": {},
   "outputs": [],
   "source": [
    "pix_coords = np.array([\n",
    "    [10., 5.],\n",
    "    [3., 8.],\n",
    "    [20.5, 10.1]\n",
    "])\n",
    "\n",
    "world_coords = w.wcs_pix2world(pix_coords, 1)\n",
    "\n",
    "print(world_coords)"
   ]
  },
  {
   "cell_type": "markdown",
   "metadata": {},
   "source": [
    "In this case, the \"world coordinates\" are RA and Dec."
   ]
  },
  {
   "cell_type": "markdown",
   "metadata": {},
   "source": [
    "We can go from world coordinates to pixel coordinates as well:"
   ]
  },
  {
   "cell_type": "code",
   "execution_count": null,
   "metadata": {
    "scrolled": false
   },
   "outputs": [],
   "source": [
    "world_coords = np.array([\n",
    "    [92.356, 20.4775],\n",
    "    [92.353, 20.4779]\n",
    "])\n",
    "\n",
    "pix_coords = w.wcs_world2pix(world_coords, 1)\n",
    "\n",
    "print(pix_coords)"
   ]
  },
  {
   "cell_type": "markdown",
   "metadata": {},
   "source": [
    "# Convolution (astropy.convolve)\n",
    "\n",
    "Astropy contains some useful convolution functions, allowing you to set kernels flexibly, and dealing with NaNs."
   ]
  },
  {
   "cell_type": "code",
   "execution_count": null,
   "metadata": {
    "collapsed": true
   },
   "outputs": [],
   "source": [
    "import astropy.convolution as conv"
   ]
  },
  {
   "cell_type": "markdown",
   "metadata": {},
   "source": [
    "Let's begin with our FITS image:"
   ]
  },
  {
   "cell_type": "code",
   "execution_count": null,
   "metadata": {
    "collapsed": true
   },
   "outputs": [],
   "source": [
    "hdulist = fits.open(fname)\n",
    "img_orig = hdulist[0].data[:]\n",
    "hdulist.close()"
   ]
  },
  {
   "cell_type": "markdown",
   "metadata": {},
   "source": [
    "We define a kernel (there are many types we could choose), and then apply the convolution:"
   ]
  },
  {
   "cell_type": "code",
   "execution_count": null,
   "metadata": {
    "collapsed": true
   },
   "outputs": [],
   "source": [
    "kern = conv.Gaussian2DKernel(5.)\n",
    "\n",
    "img_smooth = conv.convolve(img_orig, kern, boundary='extend')"
   ]
  },
  {
   "cell_type": "markdown",
   "metadata": {},
   "source": [
    "Let's plot the results. The original is on the left, and the smoothed image on the right:"
   ]
  },
  {
   "cell_type": "code",
   "execution_count": null,
   "metadata": {},
   "outputs": [],
   "source": [
    "fig = plt.figure()\n",
    "\n",
    "ax = fig.add_subplot(1,2,1)\n",
    "ax.imshow(img_orig, cmap='binary', interpolation='nearest')\n",
    "ax.axis('off')\n",
    "\n",
    "ax = fig.add_subplot(1,2,2)\n",
    "ax.imshow(img_smooth, cmap='binary', interpolation='nearest')\n",
    "ax.axis('off');"
   ]
  },
  {
   "cell_type": "markdown",
   "metadata": {},
   "source": [
    "One nice thing about `astropy.convolution` is that it deals with NaNs gracefully:"
   ]
  },
  {
   "cell_type": "code",
   "execution_count": null,
   "metadata": {},
   "outputs": [],
   "source": [
    "img_orig[5:10, 5:10] = np.nan\n",
    "img_smooth = conv.convolve(img_orig, kern, boundary='extend')\n",
    "\n",
    "fig = plt.figure()\n",
    "\n",
    "ax = fig.add_subplot(1,2,1)\n",
    "ax.imshow(img_orig, cmap='binary', interpolation='nearest')\n",
    "ax.axis('off')\n",
    "\n",
    "ax = fig.add_subplot(1,2,2)\n",
    "ax.imshow(img_smooth, cmap='binary', interpolation='nearest')\n",
    "ax.axis('off')"
   ]
  },
  {
   "cell_type": "markdown",
   "metadata": {
    "collapsed": true
   },
   "source": [
    "## Astropy.cosmology\n",
    "Cosmological quantities for standard and custom cosmologies."
   ]
  },
  {
   "cell_type": "code",
   "execution_count": null,
   "metadata": {
    "collapsed": true
   },
   "outputs": [],
   "source": [
    "from astropy.cosmology import Planck15 as cosmo"
   ]
  },
  {
   "cell_type": "code",
   "execution_count": null,
   "metadata": {},
   "outputs": [],
   "source": [
    "cosmo.comoving_distance(.2)"
   ]
  },
  {
   "cell_type": "code",
   "execution_count": null,
   "metadata": {},
   "outputs": [],
   "source": [
    "cosmo.age(0)"
   ]
  },
  {
   "cell_type": "code",
   "execution_count": null,
   "metadata": {},
   "outputs": [],
   "source": [
    "cosmo.kpc_comoving_per_arcmin(.5)"
   ]
  },
  {
   "cell_type": "code",
   "execution_count": null,
   "metadata": {},
   "outputs": [],
   "source": [
    "redshifts = np.logspace(-3,3.2)\n",
    "plt.semilogy(redshifts,cosmo.age(redshifts))\n",
    "plt.xlabel('Redshift')\n",
    "plt.ylabel('Age of Universe (Gyr)')\n",
    "plt.vlines([0,1100],1e-4,1e1,linestyles='dashed')\n",
    "plt.text(0,1e-3,'Now')\n",
    "plt.text(1100,1e-3,'CMB')"
   ]
  },
  {
   "cell_type": "markdown",
   "metadata": {},
   "source": [
    "Can also specify your own cosmology:"
   ]
  },
  {
   "cell_type": "code",
   "execution_count": null,
   "metadata": {
    "collapsed": true
   },
   "outputs": [],
   "source": [
    "from astropy.cosmology import FlatLambdaCDM\n",
    "my_cosmo = FlatLambdaCDM(70, .3) #H0, omega_m "
   ]
  },
  {
   "cell_type": "code",
   "execution_count": null,
   "metadata": {},
   "outputs": [],
   "source": [
    "my_cosmo.age(0)"
   ]
  },
  {
   "cell_type": "code",
   "execution_count": null,
   "metadata": {
    "collapsed": true
   },
   "outputs": [],
   "source": []
  }
 ],
 "metadata": {
  "kernelspec": {
   "display_name": "Python 2",
   "language": "python",
   "name": "python2"
  },
  "language_info": {
   "codemirror_mode": {
    "name": "ipython",
    "version": 2
   },
   "file_extension": ".py",
   "mimetype": "text/x-python",
   "name": "python",
   "nbconvert_exporter": "python",
   "pygments_lexer": "ipython2",
   "version": "2.7.12"
  }
 },
 "nbformat": 4,
 "nbformat_minor": 1
}
